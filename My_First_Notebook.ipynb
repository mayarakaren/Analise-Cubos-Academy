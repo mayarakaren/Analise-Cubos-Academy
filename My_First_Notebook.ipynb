{
  "nbformat": 4,
  "nbformat_minor": 0,
  "metadata": {
    "colab": {
      "provenance": [],
      "authorship_tag": "ABX9TyOJLOyWTONbjNLhkZcKeML7",
      "include_colab_link": true
    },
    "kernelspec": {
      "name": "python3",
      "display_name": "Python 3"
    },
    "language_info": {
      "name": "python"
    }
  },
  "cells": [
    {
      "cell_type": "markdown",
      "metadata": {
        "id": "view-in-github",
        "colab_type": "text"
      },
      "source": [
        "<a href=\"https://colab.research.google.com/github/mayarakaren/Analise-Cubos-Academy/blob/master/My_First_Notebook.ipynb\" target=\"_parent\"><img src=\"https://colab.research.google.com/assets/colab-badge.svg\" alt=\"Open In Colab\"/></a>"
      ]
    },
    {
      "cell_type": "markdown",
      "source": [
        "# Lista de Exercícios:\n",
        "\n",
        "### Exercício 1:\n",
        "\n",
        "1. Declare na célula abaixo uma variável com o nome que quiser\n",
        "2. Guarde o nome da sua cidade natal nela\n",
        "3. Imprima essa variável na tela\n"
      ],
      "metadata": {
        "id": "hy2oklXfqcTa"
      }
    },
    {
      "cell_type": "code",
      "source": [
        "city = \"Carapicuíba\"\n",
        "print(city)"
      ],
      "metadata": {
        "colab": {
          "base_uri": "https://localhost:8080/"
        },
        "id": "xp7om1mkqcn3",
        "outputId": "d823d8e6-b1c9-477f-b52c-6129d9be81aa"
      },
      "execution_count": null,
      "outputs": [
        {
          "output_type": "stream",
          "name": "stdout",
          "text": [
            "Carapicuíba\n"
          ]
        }
      ]
    },
    {
      "cell_type": "markdown",
      "source": [
        "### Exercício 2:\n",
        "\n",
        "1. Declare uma variável chamada **`populacao`**\n",
        "2. Guarde o número da população da sua cidade nessa variável (pode chutar)\n",
        "3. Imprima **`populacao`** na tela\n",
        "4. Altere o conteúdo dessa variável para um outro número qualquer\n",
        "5. Imprima novamente **`populacao`** na tela"
      ],
      "metadata": {
        "id": "5qGes1tWr4fU"
      }
    },
    {
      "cell_type": "code",
      "source": [
        "population = 320000\n",
        "print(population)\n",
        "population = 300000\n",
        "print(population)"
      ],
      "metadata": {
        "colab": {
          "base_uri": "https://localhost:8080/"
        },
        "id": "MQPf7s97r_pS",
        "outputId": "16c4c694-99f3-4fa8-f1b2-cd2222ebb6e4"
      },
      "execution_count": null,
      "outputs": [
        {
          "output_type": "stream",
          "name": "stdout",
          "text": [
            "320000\n",
            "300000\n"
          ]
        }
      ]
    },
    {
      "cell_type": "markdown",
      "source": [
        "### Exercício 3:\n",
        "\n",
        "Resolva a seguinte equação utilizando variáveis:\n",
        "\n",
        "$w = x - y\\\\x = (5 + 7) * 2\\\\y = \\frac{12}{4 - 2}$"
      ],
      "metadata": {
        "id": "BH622JQEr_5o"
      }
    },
    {
      "cell_type": "code",
      "source": [
        "x = (5+7)*2\n",
        "y = 12/(4-2)\n",
        "\n",
        "w = x - y\n",
        "\n",
        "print(\"x = \", x, \"y = \", y, \"w = \", w)"
      ],
      "metadata": {
        "colab": {
          "base_uri": "https://localhost:8080/"
        },
        "id": "KKWY3eIQsIMJ",
        "outputId": "8b9148a4-2d0b-4d35-94a0-71f53a39b2c8"
      },
      "execution_count": null,
      "outputs": [
        {
          "output_type": "stream",
          "name": "stdout",
          "text": [
            "x =  24 y =  6.0 w =  18.0\n"
          ]
        }
      ]
    },
    {
      "cell_type": "markdown",
      "source": [
        "### Exercício 4:\n",
        "\n",
        "Mostre na tela o valor de cada variável\n",
        "\n",
        "$w = a * b\\\\\n",
        "a = (7 - 1) \\\\\n",
        "b = g / d\\\\\n",
        "g = (2^3)$\n",
        "\n",
        "$d = 5$ % $2$\n"
      ],
      "metadata": {
        "id": "cCn3FzCRsIaD"
      }
    },
    {
      "cell_type": "code",
      "source": [
        "a = (7-1)\n",
        "g = (2**3)\n",
        "d = 5%2\n",
        "\n",
        "b = g/d\n",
        "w = a*b\n",
        "\n",
        "print(\"a = \", a, \"b = \", b, \"d = \", d, \"g = \", g, \"w = \",w)"
      ],
      "metadata": {
        "colab": {
          "base_uri": "https://localhost:8080/"
        },
        "id": "F_pIUDiJsN2N",
        "outputId": "cc8364e1-57d0-4d15-f3ba-82903fc3e91a"
      },
      "execution_count": null,
      "outputs": [
        {
          "output_type": "stream",
          "name": "stdout",
          "text": [
            "a =  6 b =  8.0 d =  1 g =  8 w =  48.0\n"
          ]
        }
      ]
    },
    {
      "cell_type": "markdown",
      "source": [
        "### Exercício 5:\n",
        "\n",
        "1. Declare uma variável com um número qualquer\n",
        "2. Como descobrir se essa variável contém um número **par** ou **ímpar**?"
      ],
      "metadata": {
        "id": "QFB7MZp0sOKv"
      }
    },
    {
      "cell_type": "code",
      "source": [
        "var = 15\n",
        "impar = var%2\n",
        "\n",
        "a = 8\n",
        "par = a%2\n",
        "\n",
        "print(impar)\n",
        "print(par)"
      ],
      "metadata": {
        "id": "pbCBWHhUsWno",
        "colab": {
          "base_uri": "https://localhost:8080/"
        },
        "outputId": "a582aa55-f589-4f18-afbc-9f505bc8f5a6"
      },
      "execution_count": 7,
      "outputs": [
        {
          "output_type": "stream",
          "name": "stdout",
          "text": [
            "1\n",
            "0\n"
          ]
        }
      ]
    },
    {
      "cell_type": "markdown",
      "source": [
        "### Exercício 6:\n",
        "\n",
        "1.   Crie uma variável texto com seu nome completo\n",
        "2.   Quantos caracteres seu nome possui?\n",
        "3.   Imprima seu nome em letras maiúsculas\n",
        "4.   Substitua todas as letras A de seu nome por um traço “-”\n",
        "5.   Seu nome possui a letra p?\n"
      ],
      "metadata": {
        "id": "5egc6c7NsWzF"
      }
    },
    {
      "cell_type": "code",
      "source": [
        "#Crie uma variável texto com seu nome completo\n",
        "name = 'Mayara Karen Marques Pereira'\n",
        "\n",
        "#Quantos caracteres seu nome possui?\n",
        "print(len(name))\n",
        "\n",
        "#Imprima seu nome em letras maiúsculas\n",
        "print(name.upper())\n",
        "\n",
        "#Substitua todas as letras A de seu nome por um traço “-”\n",
        "name = name.replace(\"a\", \"-\")\n",
        "print(name.replace(\"a\", \"-\"))\n",
        "\n",
        "#Seu nome possui a letra p?\n",
        "print(\"P\" in name)\n"
      ],
      "metadata": {
        "colab": {
          "base_uri": "https://localhost:8080/"
        },
        "id": "Ry2-Ik84qn67",
        "outputId": "1ca42c54-8b9a-40b8-a8ad-449a7c5478b3"
      },
      "execution_count": 22,
      "outputs": [
        {
          "output_type": "stream",
          "name": "stdout",
          "text": [
            "28\n",
            "MAYARA KAREN MARQUES PEREIRA\n",
            "M-y-r- K-ren M-rques Pereir-\n",
            "True\n"
          ]
        }
      ]
    },
    {
      "cell_type": "markdown",
      "source": [
        "### Exercício 7:\n",
        "\n",
        "1. Declare a variável `primeiro_nome` com o seu primeiro nome como valor;\n",
        "3. Declare a variável `ultimo_nome` com o seu último nome como valor;\n",
        "4. Mostre na tela as variáveis somadas como se fosse uma operação matemática na ordem do seu nome."
      ],
      "metadata": {
        "id": "8lDRDOBkqogm"
      }
    },
    {
      "cell_type": "code",
      "source": [
        "primeiro_nome = \"Mayara \"\n",
        "ultimo_nome = \"Pereira\"\n",
        "\n",
        "print(primeiro_nome + ultimo_nome)"
      ],
      "metadata": {
        "colab": {
          "base_uri": "https://localhost:8080/"
        },
        "id": "ScN3OiXqqviE",
        "outputId": "a39d2236-be97-4e34-f7a0-e2579c098032"
      },
      "execution_count": 24,
      "outputs": [
        {
          "output_type": "stream",
          "name": "stdout",
          "text": [
            "Mayara Pereira\n"
          ]
        }
      ]
    },
    {
      "cell_type": "markdown",
      "source": [
        "### Exercício 8:\n",
        "\n",
        "1. Copie as variáveis do exercício anterior;\n",
        "2. Declare a variável `apelido` com o seu apelido favorito como valor;\n",
        "4. Aplique as variáveis na seguinte frase:\n",
        "> \"O meu nome é [PRIMEIRO NOME] [ÚLTIMO NOME], mas muitos me chamam de [APELIDO]\""
      ],
      "metadata": {
        "id": "KqNfQJq3qv3K"
      }
    },
    {
      "cell_type": "code",
      "source": [
        "primeiro_nome = \"Mayara \"\n",
        "ultimo_nome = \"Pereira\"\n",
        "apelido = \"May\"\n",
        "\n",
        "print(f\"O meu nome é {primeiro_nome}{ultimo_nome}, mas muito me chamam de {apelido}\")"
      ],
      "metadata": {
        "colab": {
          "base_uri": "https://localhost:8080/"
        },
        "id": "5VTje1l9q240",
        "outputId": "b17d4c38-9195-4d77-e301-3ba4d585f3e2"
      },
      "execution_count": 25,
      "outputs": [
        {
          "output_type": "stream",
          "name": "stdout",
          "text": [
            "O meu nome é Mayara Pereira, mas muito me chamam de May\n"
          ]
        }
      ]
    },
    {
      "cell_type": "markdown",
      "source": [
        "### Exercício 9:\n",
        "\n",
        "Para saber se duas strings são iguais um dos métodos que temos é verificar o tamanho de caracteres de cada antes de fazer alguma comparação. Utilizando esse método, descubra se as Strings abaixo tem a possibilidade de ser iguais a partir do tamanho de cada uma delas.\n",
        "\n",
        "### Caso 1\n",
        "\n",
        "`str1 = n+MqY5X9b+DIh+9mQjLT89xDYylNaA4tARNQmqFCr9cz+27Jl3qxoxrmtST9VabY4LdBaTUQkjTK+xFq5g35T+hrp3XRiAbuJLqnGJPx1Z8T3WwAo8u1Hr3qR6u7vZxs`\n",
        "\n",
        "`str2 = n+MqY5X9b+DIh+9mQjLT89xDYylNaA4tARNQmqFCr9cz+27Jl3qxoxrmtST9VabY4LdBaTUQkjTK+xFq5g35T+hrp3XRiAbuJLqnGJPx1Z8T3WwAo8u1Hr3qR6u7vZxs`\n",
        "\n",
        "### Caso 2\n",
        "\n",
        "`str1 = n+MqY5X9b+DIh+9mQjLT89xDylNaA4tARNQmqFCr9cz+27Jl3qxoxrmtST9VabY4LdBaTUQkjTK+xFq5g35T+hrp3XRiAbuJLqnGJPx1Z8T3WwAo8u1Hr3qR6u7vZxs`\n",
        "\n",
        "`str2 = n+MqY5X9b+DIh+9mQjLT89xDYylNaA4tARNQmqFCr9cz+27Jl3qxoxrmtST9VabY4LdBaTUQkjTK+xFq5g35T+hrp3XRiAbuJLqnGJPx1Z8T3WwAo8u1Hr3qR6u7vZxs`[]"
      ],
      "metadata": {
        "id": "mvI5MLowq3rM"
      }
    },
    {
      "cell_type": "code",
      "source": [
        "str1 = \"n+MqY5X9b+DIh+9mQjLT89xDYylNaA4tARNQmqFCr9cz+27Jl3qxoxrmtST9VabY4LdBaTUQkjTK+xFq5g35T+hrp3XRiAbuJLqnGJPx1Z8T3WwAo8u1Hr3qR6u7vZxs\"\n",
        "\n",
        "str2 = \"n+MqY5X9b+DIh+9mQjLT89xDYylNaA4tARNQmqFCr9cz+27Jl3qxoxrmtST9VabY4LdBaTUQkjTK+xFq5g35T+hrp3XRiAbuJLqnGJPx1Z8T3WwAo8u1Hr3qR6u7vZxs\"\n",
        "\n",
        "print(len(str1))\n",
        "print(len(str2))\n",
        "\n",
        "#Caso 2:\n",
        "\n",
        "str1 = \"n+MqY5X9b+DIh+9mQjLT89xDylNaA4tARNQmqFCr9cz+27Jl3qxoxrmtST9VabY4LdBaTUQkjTK+xFq5g35T+hrp3XRiAbuJLqnGJPx1Z8T3WwAo8u1Hr3qR6u7vZxs\"\n",
        "\n",
        "str2 = \"n+MqY5X9b+DIh+9mQjLT89xDYylNaA4tARNQmqFCr9cz+27Jl3qxoxrmtST9VabY4LdBaTUQkjTK+xFq5g35T+hrp3XRiAbuJLqnGJPx1Z8T3WwAo8u1Hr3qR6u7vZxs[]\"\n",
        "\n",
        "print(len(str1))\n",
        "print(len(str2))"
      ],
      "metadata": {
        "colab": {
          "base_uri": "https://localhost:8080/"
        },
        "id": "MIYgZzZFq_km",
        "outputId": "b83cd252-af6e-45a0-80aa-8132dc392983"
      },
      "execution_count": 27,
      "outputs": [
        {
          "output_type": "stream",
          "name": "stdout",
          "text": [
            "128\n",
            "128\n",
            "127\n",
            "130\n"
          ]
        }
      ]
    },
    {
      "cell_type": "markdown",
      "source": [
        "### Exercício 10:\n",
        "\n",
        "O time com o qual você está trabalhando estava revisando um texto que precisava ser enviado urgente para um cliente e perceberam que existe um erro de digitação que acontece várias vezes ao longo do email. Eles precisam da sua ajuda para corrigir o texto:\n",
        "\n",
        "> O cuiddo em identificar ponts críticos na estrutura atual da organização deve passar por modificações independentemente do processo de comunicação como um todo. Desta maneira, o aumento do diálogo entre os diferentes setores produtivos causa impacto indireto na reavaliação das formas de ação. No entanto, não podemos esquecer que a crescente influência da mídia apresenta tendências no centido de aprovar a manutenção de alternativas às soluções ortodoxas.\n",
        ">\n",
        "> É claro que a execução dos ponts do programa representa uma abertura para a melhoria do cuiddo das direções preferenciais no centido do progresso. Podemos já vislumbrar o modo pelo qual a expansão dos mercados mundiais maximiza as possibilidades por conta do investimento em reciclagem técnica. A certificação de metodologias que nos auxiliam a lidar com o julgamento imparcial das eventualidades exige o cuiddo e a precisão e a definição das condições financeiras e administrativas exigidas.\n",
        "\n",
        "**Palavras a serem corrigidas:**\n",
        "\n",
        "errada | correta\n",
        "-------|--------\n",
        "ponts | pontos\n",
        "centido | sentido\n",
        "cuiddo | cuidado\n",
        "\n",
        "1. Declare uma variável para guaradar o texto;\n",
        "2. Utilize o `replace` para substituir as palavras erradas;\n",
        "3. Substitua o valor da variável existente pelo novo resultado;\n",
        "4. Repita até que todas as palavras tenham sido corrigidas."
      ],
      "metadata": {
        "id": "Bh-nvtDwq_6S"
      }
    },
    {
      "cell_type": "code",
      "source": [
        "txt = \"O cuiddo em identificar ponts críticos na estrutura atual da organização deve passar por modificações independentemente do processo de comunicação como um todo. Desta maneira, o aumento do diálogo entre os diferentes setores produtivos causa impacto indireto na reavaliação das formas de ação. No entanto, não podemos esquecer que a crescente influência da mídia apresenta tendências no centido de aprovar a manutenção de alternativas às soluções ortodoxas. É claro que a execução dos ponts do programa representa uma abertura para a melhoria do cuiddo das direções preferenciais no centido do progresso. Podemos já vislumbrar o modo pelo qual a expansão dos mercados mundiais maximiza as possibilidades por conta do investimento em reciclagem técnica. A certificação de metodologias que nos auxiliam a lidar com o julgamento imparcial das eventualidades exige o cuiddo e a precisão e a definição das condições financeiras e administrativas exigidas.\"\n",
        "txt = txt.lower()\n",
        "\n",
        "#Substituir\n",
        "txt = txt.replace(\"ponts\", \"pontos\")\n",
        "txt = txt.replace(\"centido\", \"sentido\")\n",
        "txt = txt.replace(\"cuiddo\", \"cuidado\")\n",
        "\n",
        "print(txt)"
      ],
      "metadata": {
        "colab": {
          "base_uri": "https://localhost:8080/"
        },
        "id": "B4FAr_l3rLAr",
        "outputId": "cb0abbb0-7bbd-4490-f341-794c076c9413"
      },
      "execution_count": 29,
      "outputs": [
        {
          "output_type": "stream",
          "name": "stdout",
          "text": [
            "o cuidado em identificar pontos críticos na estrutura atual da organização deve passar por modificações independentemente do processo de comunicação como um todo. desta maneira, o aumento do diálogo entre os diferentes setores produtivos causa impacto indireto na reavaliação das formas de ação. no entanto, não podemos esquecer que a crescente influência da mídia apresenta tendências no sentido de aprovar a manutenção de alternativas às soluções ortodoxas. é claro que a execução dos pontos do programa representa uma abertura para a melhoria do cuidado das direções preferenciais no sentido do progresso. podemos já vislumbrar o modo pelo qual a expansão dos mercados mundiais maximiza as possibilidades por conta do investimento em reciclagem técnica. a certificação de metodologias que nos auxiliam a lidar com o julgamento imparcial das eventualidades exige o cuidado e a precisão e a definição das condições financeiras e administrativas exigidas.\n"
          ]
        }
      ]
    },
    {
      "cell_type": "markdown",
      "source": [
        "### Exercício 11:\n",
        "\n",
        "Você está trabalhando em contato com o setor de marketing e atualmente eles utilizam o seguinte texto para a apresentação aos investidores e precisam checar se todos as ideias chave foram mencionadas.\n",
        "\n",
        "> Neste sentido, o entendimento das metas propostas nos obriga à análise do remanejamento dos quadros funcionais. Por outro lado, a percepção das dificuldades oferece uma interessante oportunidade para verificação dos métodos utilizados na avaliação de resultados. Assim mesmo, a consolidação das estruturas promove a alavancagem dos relacionamentos verticais entre as hierarquias.\n",
        ">\n",
        "> A nível organizacional, a necessidade de renovação processual cumpre um papel essencial na formulação das posturas dos órgãos dirigentes com relação às suas atribuições. Caros amigos, o novo modelo estrutural aqui preconizado garante a contribuição de um grupo importante na determinação das novas proposições. A prática cotidiana prova que a consulta aos diversos militantes agrega valor ao estabelecimento dos modos de operação convencionais. Acima de tudo, é fundamental ressaltar que a constante divulgação das informações facilita a criação do sistema de formação de quadros que corresponde às necessidades. Nunca é demais lembrar o peso e o significado destes problemas, uma vez que a complexidade dos estudos efetuados é uma das consequências das condições inegavelmente apropriadas.\n",
        "\n",
        "**Palavras**\n",
        "- Nível Organizacional\n",
        "- Divulgação das Informações\n",
        "- Frequência de Publicações\n",
        "- Remanejamento dos Quadros\n",
        "\n",
        "1. Declare uma variável para guardar a informação do texto;\n",
        "2. Declare uma varivável para cada palavra a ser buscada;\n",
        "3. Imprima na tela para todas as variáveis se elas estão ou não presentes no texto;"
      ],
      "metadata": {
        "id": "ToI9YGPUrLNZ"
      }
    },
    {
      "cell_type": "code",
      "source": [
        "txt = \"Neste sentido, o entendimento das metas propostas nos obriga à análise do remanejamento dos quadros funcionais. Por outro lado, a percepção das dificuldades oferece uma interessante oportunidade para verificação dos métodos utilizados na avaliação de resultados. Assim mesmo, a consolidação das estruturas promove a alavancagem dos relacionamentos verticais entre as hierarquias. A nível organizacional, a necessidade de renovação processual cumpre um papel essencial na formulação das posturas dos órgãos dirigentes com relação às suas atribuições. Caros amigos, o novo modelo estrutural aqui preconizado garante a contribuição de um grupo importante na determinação das novas proposições. A prática cotidiana prova que a consulta aos diversos militantes agrega valor ao estabelecimento dos modos de operação convencionais. Acima de tudo, é fundamental ressaltar que a constante divulgação das informações facilita a criação do sistema de formação de quadros que corresponde às necessidades. Nunca é demais lembrar o peso e o significado destes problemas, uma vez que a complexidade dos estudos efetuados é uma das consequências das condições inegavelmente apropriadas.\"\n",
        "\n",
        "#Declarar palavras a serem buscadas\n",
        "p1 = \"Nível Organizacional\"\n",
        "p2 = \"Divulgação das Informações\"\n",
        "p3 = \"Frequência de Publicações\"\n",
        "p4 = \"Remanejamento dos Quadros\"\n",
        "\n",
        "#Transformar tudo em letra minuscula\n",
        "txt = txt.lower()\n",
        "p1 = p1.lower()\n",
        "p2 = p2.lower()\n",
        "p3 = p3.lower()\n",
        "p4 = p4.lower()\n",
        "\n",
        "#Imprimindo\n",
        "\n",
        "print(p1 in txt)\n",
        "print(p2 in txt)\n",
        "print(p3 in txt)\n",
        "print(p4 in txt)"
      ],
      "metadata": {
        "colab": {
          "base_uri": "https://localhost:8080/"
        },
        "id": "IY1-52DYrSwZ",
        "outputId": "7b82a7dc-8878-4410-ab91-79693d288f41"
      },
      "execution_count": 30,
      "outputs": [
        {
          "output_type": "stream",
          "name": "stdout",
          "text": [
            "True\n",
            "True\n",
            "False\n",
            "True\n"
          ]
        }
      ]
    }
  ]
}